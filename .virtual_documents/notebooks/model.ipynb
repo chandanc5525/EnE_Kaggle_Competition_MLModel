import pandas as pd
import os
os.getcwd()


df = pd.read_csv('data/raw/datamodel.csv')



